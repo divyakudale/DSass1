{
 "cells": [
  {
   "cell_type": "code",
   "execution_count": 1,
   "id": "c98632e3-e95e-4a6c-9894-130f0f1bc517",
   "metadata": {},
   "outputs": [],
   "source": [
    "import numpy as np\n",
    "import pandas as pd\n",
    "import seaborn as sns\n",
    "from matplotlib import pyplot as plt\n",
    "# !pip install missingno\n",
    "import missingno as msno\n",
    "from datetime import date\n",
    "from sklearn.metrics import accuracy_score\n",
    "from sklearn.model_selection import train_test_split\n",
    "from sklearn.neighbors import LocalOutlierFactor\n",
    "from sklearn.preprocessing import MinMaxScaler, LabelEncoder, StandardScaler, RobustScaler"
   ]
  },
  {
   "cell_type": "code",
   "execution_count": 2,
   "id": "86524ed5-c7ca-48b0-8a13-278fa6e64abc",
   "metadata": {},
   "outputs": [],
   "source": [
    "def load_application_train():\n",
    "    data = pd.read_csv(r\"C:\\Users\\DELL\\Downloads\\application_train (1).csv\")\n",
    "    return data"
   ]
  },
  {
   "cell_type": "code",
   "execution_count": 3,
   "id": "8e68e170-a9d7-49b2-b3cc-cfdb9207cc67",
   "metadata": {},
   "outputs": [
    {
     "name": "stdout",
     "output_type": "stream",
     "text": [
      "(307511, 122)\n"
     ]
    }
   ],
   "source": [
    "df = load_application_train()\n",
    "print(df.shape) "
   ]
  },
  {
   "cell_type": "code",
   "execution_count": 4,
   "id": "80df65b7-d482-468e-acec-4636a7756a84",
   "metadata": {},
   "outputs": [],
   "source": [
    "def load():\n",
    "    data = pd.read_csv(r\"C:\\Users\\DELL\\Downloads\\titanic (2).csv\")\n",
    "    return data"
   ]
  },
  {
   "cell_type": "code",
   "execution_count": 5,
   "id": "2d686773-6e43-4fa2-aba5-8a3b2181eb25",
   "metadata": {},
   "outputs": [
    {
     "name": "stdout",
     "output_type": "stream",
     "text": [
      "(891, 12)\n"
     ]
    }
   ],
   "source": [
    "df = load()\n",
    "print(df.shape)"
   ]
  },
  {
   "cell_type": "code",
   "execution_count": 6,
   "id": "491ed31d-48d8-4553-8433-c7a754760aa3",
   "metadata": {},
   "outputs": [
    {
     "data": {
      "image/png": "[encoded data removed]",
      "text/plain": [
       "<Figure size 640x480 with 1 Axes>"
      ]
     },
     "metadata": {},
     "output_type": "display_data"
    }
   ],
   "source": [
    "sns.boxplot(x=df[\"Age\"])\n",
    "plt.show()"
   ]
  },
  {
   "cell_type": "code",
   "execution_count": 7,
   "id": "679c5300-b6d9-47fb-960c-d6f03b1955a5",
   "metadata": {},
   "outputs": [],
   "source": [
    "q1 = df[\"Age\"].quantile(0.25)\n",
    "q3 = df[\"Age\"].quantile(0.75)\n",
    "iqr = q3 - q1\n",
    "up = q3 + 1.5 * iqr\n",
    "low = q1 - 1.5 * iqr"
   ]
  },
  {
   "cell_type": "code",
   "execution_count": 8,
   "id": "32253257-0a2e-475d-a2a9-8542697fdcdf",
   "metadata": {},
   "outputs": [
    {
     "name": "stdout",
     "output_type": "stream",
     "text": [
      "     PassengerId  Survived  Pclass                                  Name  \\\n",
      "33            34         0       2                 Wheadon, Mr. Edward H   \n",
      "54            55         0       1        Ostby, Mr. Engelhart Cornelius   \n",
      "96            97         0       1             Goldschmidt, Mr. George B   \n",
      "116          117         0       3                  Connors, Mr. Patrick   \n",
      "280          281         0       3                      Duane, Mr. Frank   \n",
      "456          457         0       1             Millet, Mr. Francis Davis   \n",
      "493          494         0       1               Artagaveytia, Mr. Ramon   \n",
      "630          631         1       1  Barkworth, Mr. Algernon Henry Wilson   \n",
      "672          673         0       2           Mitchell, Mr. Henry Michael   \n",
      "745          746         0       1          Crosby, Capt. Edward Gifford   \n",
      "851          852         0       3                   Svensson, Mr. Johan   \n",
      "\n",
      "      Sex   Age  SibSp  Parch      Ticket     Fare Cabin Embarked  \n",
      "33   male  66.0      0      0  C.A. 24579  10.5000   NaN        S  \n",
      "54   male  65.0      0      1      113509  61.9792   B30        C  \n",
      "96   male  71.0      0      0    PC 17754  34.6542    A5        C  \n",
      "116  male  70.5      0      0      370369   7.7500   NaN        Q  \n",
      "280  male  65.0      0      0      336439   7.7500   NaN        Q  \n",
      "456  male  65.0      0      0       13509  26.5500   E38        S  \n",
      "493  male  71.0      0      0    PC 17609  49.5042   NaN        C  \n",
      "630  male  80.0      0      0       27042  30.0000   A23        S  \n",
      "672  male  70.0      0      0  C.A. 24580  10.5000   NaN        S  \n",
      "745  male  70.0      1      1   WE/P 5735  71.0000   B22        S  \n",
      "851  male  74.0      0      0      347060   7.7750   NaN        S  \n"
     ]
    }
   ],
   "source": [
    "print(df[(df[\"Age\"] < low) | (df[\"Age\"] > up)])"
   ]
  },
  {
   "cell_type": "code",
   "execution_count": 9,
   "id": "dce6d581-9252-4f09-9823-a01479ee8b1a",
   "metadata": {},
   "outputs": [
    {
     "name": "stdout",
     "output_type": "stream",
     "text": [
      "Int64Index([33, 54, 96, 116, 280, 456, 493, 630, 672, 745, 851], dtype='int64')\n"
     ]
    }
   ],
   "source": [
    "print(df[(df[\"Age\"] < low) | (df[\"Age\"] > up)].index)"
   ]
  },
  {
   "cell_type": "code",
   "execution_count": 10,
   "id": "9fd72263-c021-45db-a6ba-fa50ad9022a0",
   "metadata": {},
   "outputs": [
    {
     "name": "stdout",
     "output_type": "stream",
     "text": [
      "True\n"
     ]
    }
   ],
   "source": [
    "print(df[(df[\"Age\"] < low) | (df[\"Age\"] > up)].any(axis=None))"
   ]
  },
  {
   "cell_type": "code",
   "execution_count": 11,
   "id": "e2c04ef6-c339-41aa-9ba5-d5ec42092dc8",
   "metadata": {},
   "outputs": [
    {
     "name": "stdout",
     "output_type": "stream",
     "text": [
      "False\n"
     ]
    }
   ],
   "source": [
    "print(df[(df[\"Age\"] < low)].any(axis=None))"
   ]
  },
  {
   "cell_type": "code",
   "execution_count": 12,
   "id": "020caddc-51bb-49b9-ac62-76a6bed70266",
   "metadata": {},
   "outputs": [],
   "source": [
    "def outlier_thresholds(dataframe, col_name, q1=0.25, q3=0.75):\n",
    "    quartile1 = dataframe[col_name].quantile(q1)\n",
    "    quartile3 = dataframe[col_name].quantile(q3)print(check_outlier(df, \"Fare\")) \n",
    "    interquantile_range = quartile3 - quartile1\n",
    "    up_limit = quartile3 + 1.5 * interquantile_range\n",
    "    low_limit = quartile1 - 1.5 * interquantile_range\n",
    "    return low_limit, up_limitprint(check_outlier(df, \"Fare\")) "
   ]
  },
  {
   "cell_type": "code",
   "execution_count": 13,
   "id": "41dd78b3-694a-49b2-9666-59123b4cc289",
   "metadata": {},
   "outputs": [
    {
     "name": "stdout",
     "output_type": "stream",
     "text": [
      "(-6.6875, 64.8125)\n"
     ]
    }
   ],
   "source": [
    "print(outlier_thresholds(df, \"Age\"))"
   ]
  },
  {
   "cell_type": "code",
   "execution_count": 14,
   "id": "f56f9afc-756e-4901-9625-a15b66ad35d1",
   "metadata": {},
   "outputs": [],
   "source": [
    "def check_outlier(dataframe, col_name):\n",
    "    low_limit, up_limit = outlier_thresholds(dataframe, col_name)\n",
    "    if dataframe[(dataframe[col_name] > up_limit) | (dataframe[col_name] < low_limit)].any(axis=None):\n",
    "        return True\n",
    "    else:\n",
    "        return False"
   ]
  },
  {
   "cell_type": "code",
   "execution_count": 15,
   "id": "e2be553a-10a3-41af-afba-db2703f5dd17",
   "metadata": {},
   "outputs": [
    {
     "name": "stdout",
     "output_type": "stream",
     "text": [
      "True\n"
     ]
    }
   ],
   "source": [
    "print(check_outlier(df, \"Age\"))"
   ]
  },
  {
   "cell_type": "code",
   "execution_count": 16,
   "id": "a0d52f61-5a7e-49e6-8a78-ecb7faec295d",
   "metadata": {},
   "outputs": [
    {
     "name": "stdout",
     "output_type": "stream",
     "text": [
      "True\n"
     ]
    }
   ],
   "source": [
    "print(check_outlier(df, \"Fare\")) "
   ]
  },
  {
   "cell_type": "code",
   "execution_count": 18,
   "id": "09dfc2b7-a4ed-433d-b363-986c43075c5f",
   "metadata": {},
   "outputs": [
    {
     "name": "stdout",
     "output_type": "stream",
     "text": [
      "Observations: 891\n",
      "Variables: 12\n",
      "cat_cols: 6\n",
      "num_cols: 3\n",
      "cat_but_car: 3\n",
      "num_but_cat: 4\n"
     ]
    }
   ],
   "source": [
    "def grab_col_names(dataframe, cat_th=10, car_th=20):\n",
    "    cat_cols = [col for col in dataframe.columns if dataframe[col].dtypes == \"O\"]\n",
    "    num_but_cat = [col for col in dataframe.columns if dataframe[col].nunique() < cat_th and dataframe[col].dtypes != \"O\"]\n",
    "    cat_but_car = [col for col in dataframe.columns if dataframe[col].nunique() > car_th and dataframe[col].dtypes == \"O\"]\n",
    "    cat_cols = cat_cols + num_but_cat\n",
    "    cat_cols = [col for col in cat_cols if col not in cat_but_car]\n",
    "    num_cols = [col for col in dataframe.columns if dataframe[col].dtypes != \"O\" and col not in num_but_cat]\n",
    "\n",
    "    print(f\"Observations: {dataframe.shape[0]}\")\n",
    "    print(f\"Variables: {dataframe.shape[1]}\")\n",
    "    print(f\"cat_cols: {len(cat_cols)}\")\n",
    "    print(f\"num_cols: {len(num_cols)}\")\n",
    "    print(f\"cat_but_car: {len(cat_but_car)}\")\n",
    "    print(f\"num_but_cat: {len(num_but_cat)}\")\n",
    "\n",
    "    return cat_cols, num_cols, cat_but_car\n",
    "\n",
    "\n",
    "\n",
    "\n",
    "cat_cols, num_cols, cat_but_car = grab_col_names(df)"
   ]
  },
  {
   "cell_type": "code",
   "execution_count": 19,
   "id": "e75d5289-cde4-4b36-9014-e31cb7600461",
   "metadata": {},
   "outputs": [
    {
     "name": "stdout",
     "output_type": "stream",
     "text": [
      "['Age', 'Fare']\n"
     ]
    }
   ],
   "source": [
    "num_cols = [col for col in num_cols if col not in \"PassengerId\"]\n",
    "print(num_cols)"
   ]
  },
  {
   "cell_type": "code",
   "execution_count": 20,
   "id": "b14e8548-5846-4c43-824f-c6d1b413ec0a",
   "metadata": {},
   "outputs": [
    {
     "name": "stdout",
     "output_type": "stream",
     "text": [
      "Age True\n",
      "Fare True\n"
     ]
    }
   ],
   "source": [
    "for col in num_cols:\n",
    "    print(col, check_outlier(df, col))"
   ]
  },
  {
   "cell_type": "code",
   "execution_count": 21,
   "id": "dd0d26e8-f217-4f1a-bcef-af842cb0cc39",
   "metadata": {},
   "outputs": [
    {
     "name": "stdout",
     "output_type": "stream",
     "text": [
      "Observations: 307511\n",
      "Variables: 122\n",
      "cat_cols: 54\n",
      "num_cols: 67\n",
      "cat_but_car: 1\n",
      "num_but_cat: 39\n"
     ]
    }
   ],
   "source": [
    "dff = load_application_train()\n",
    "\n",
    "cat_cols, num_cols, cat_but_car = grab_col_names(dff)"
   ]
  },
  {
   "cell_type": "code",
   "execution_count": 22,
   "id": "0d22ce15-a65d-432b-83ac-2d61e21e0d6f",
   "metadata": {},
   "outputs": [
    {
     "name": "stdout",
     "output_type": "stream",
     "text": [
      "\n",
      "\n"
     ]
    }
   ],
   "source": [
    "num_cols.remove('SK_ID_CURR')\n",
    "\n",
    "print()\n",
    "print()"
   ]
  },
  {
   "cell_type": "code",
   "execution_count": 23,
   "id": "2fb4d394-6bec-4d5f-bad2-52c6afa8bdde",
   "metadata": {},
   "outputs": [
    {
     "name": "stdout",
     "output_type": "stream",
     "text": [
      "CNT_CHILDREN True\n",
      "AMT_INCOME_TOTAL True\n",
      "AMT_CREDIT True\n",
      "AMT_ANNUITY True\n",
      "AMT_GOODS_PRICE True\n",
      "REGION_POPULATION_RELATIVE True\n",
      "DAYS_BIRTH False\n",
      "DAYS_EMPLOYED True\n",
      "DAYS_REGISTRATION True\n",
      "DAYS_ID_PUBLISH False\n",
      "OWN_CAR_AGE True\n",
      "CNT_FAM_MEMBERS True\n",
      "HOUR_APPR_PROCESS_START True\n",
      "EXT_SOURCE_1 False\n",
      "EXT_SOURCE_2 False\n",
      "EXT_SOURCE_3 False\n",
      "APARTMENTS_AVG True\n",
      "BASEMENTAREA_AVG True\n",
      "YEARS_BEGINEXPLUATATION_AVG True\n",
      "YEARS_BUILD_AVG True\n",
      "COMMONAREA_AVG True\n",
      "ELEVATORS_AVG True\n",
      "ENTRANCES_AVG True\n",
      "FLOORSMAX_AVG True\n",
      "FLOORSMIN_AVG True\n",
      "LANDAREA_AVG True\n",
      "LIVINGAPARTMENTS_AVG True\n",
      "LIVINGAREA_AVG True\n",
      "NONLIVINGAPARTMENTS_AVG True\n",
      "NONLIVINGAREA_AVG True\n",
      "APARTMENTS_MODE True\n",
      "BASEMENTAREA_MODE True\n",
      "YEARS_BEGINEXPLUATATION_MODE True\n",
      "YEARS_BUILD_MODE True\n",
      "COMMONAREA_MODE True\n",
      "ELEVATORS_MODE True\n",
      "ENTRANCES_MODE True\n",
      "FLOORSMAX_MODE True\n",
      "FLOORSMIN_MODE True\n",
      "LANDAREA_MODE True\n",
      "LIVINGAPARTMENTS_MODE True\n",
      "LIVINGAREA_MODE True\n",
      "NONLIVINGAPARTMENTS_MODE True\n",
      "NONLIVINGAREA_MODE True\n",
      "APARTMENTS_MEDI True\n",
      "BASEMENTAREA_MEDI True\n",
      "YEARS_BEGINEXPLUATATION_MEDI True\n",
      "YEARS_BUILD_MEDI True\n",
      "COMMONAREA_MEDI True\n",
      "ELEVATORS_MEDI True\n",
      "ENTRANCES_MEDI True\n",
      "FLOORSMAX_MEDI True\n",
      "FLOORSMIN_MEDI True\n",
      "LANDAREA_MEDI True\n",
      "LIVINGAPARTMENTS_MEDI True\n",
      "LIVINGAREA_MEDI True\n",
      "NONLIVINGAPARTMENTS_MEDI True\n",
      "NONLIVINGAREA_MEDI True\n",
      "TOTALAREA_MODE True\n",
      "OBS_30_CNT_SOCIAL_CIRCLE True\n",
      "DEF_30_CNT_SOCIAL_CIRCLE True\n",
      "OBS_60_CNT_SOCIAL_CIRCLE True\n",
      "DAYS_LAST_PHONE_CHANGE True\n",
      "AMT_REQ_CREDIT_BUREAU_MON True\n",
      "AMT_REQ_CREDIT_BUREAU_QRT True\n",
      "AMT_REQ_CREDIT_BUREAU_YEAR True\n"
     ]
    }
   ],
   "source": [
    "for col in num_cols:\n",
    "    print(col, check_outlier(dff, col))"
   ]
  },
  {
   "cell_type": "code",
   "execution_count": 24,
   "id": "3bae7833-1592-4c21-bc46-88cfac08a26d",
   "metadata": {},
   "outputs": [],
   "source": [
    "def grab_outliers(dataframe, col_name, outlier_index=False, f = 5):\n",
    "    low, up = outlier_thresholds(dataframe, col_name)\n",
    "\n",
    "    if dataframe[((dataframe[col_name] < low) | (dataframe[col_name] > up))].shape[0] > 10:\n",
    "        print(dataframe[((dataframe[col_name] < low) | (dataframe[col_name] > up))].head(f))\n",
    "    else:\n",
    "        print(dataframe[((dataframe[col_name] < low) | (dataframe[col_name] > up))])\n",
    "\n",
    "    if outlier_index:\n",
    "        out_index = dataframe[((dataframe[col_name] < low) | (dataframe[col_name] > up))].index\n",
    "        return out_index"
   ]
  },
  {
   "cell_type": "code",
   "execution_count": 25,
   "id": "4b0af740-4187-4b4a-b3f5-499b92a5785e",
   "metadata": {},
   "outputs": [
    {
     "name": "stdout",
     "output_type": "stream",
     "text": [
      "     PassengerId  Survived  Pclass                            Name   Sex  \\\n",
      "33            34         0       2           Wheadon, Mr. Edward H  male   \n",
      "54            55         0       1  Ostby, Mr. Engelhart Cornelius  male   \n",
      "96            97         0       1       Goldschmidt, Mr. George B  male   \n",
      "116          117         0       3            Connors, Mr. Patrick  male   \n",
      "280          281         0       3                Duane, Mr. Frank  male   \n",
      "\n",
      "      Age  SibSp  Parch      Ticket     Fare Cabin Embarked  \n",
      "33   66.0      0      0  C.A. 24579  10.5000   NaN        S  \n",
      "54   65.0      0      1      113509  61.9792   B30        C  \n",
      "96   71.0      0      0    PC 17754  34.6542    A5        C  \n",
      "116  70.5      0      0      370369   7.7500   NaN        Q  \n",
      "280  65.0      0      0      336439   7.7500   NaN        Q  \n"
     ]
    }
   ],
   "source": [
    "age_index = grab_outliers(df, \"Age\", True)"
   ]
  },
  {
   "cell_type": "code",
   "execution_count": 26,
   "id": "dc8774cc-c7ed-406f-8364-00e11ec3d752",
   "metadata": {},
   "outputs": [
    {
     "name": "stdout",
     "output_type": "stream",
     "text": [
      "Int64Index([33, 54, 96, 116, 280, 456, 493, 630, 672, 745, 851], dtype='int64')\n"
     ]
    }
   ],
   "source": [
    "print(age_index) "
   ]
  },
  {
   "cell_type": "code",
   "execution_count": 27,
   "id": "c9ffc821-b3ce-42be-8594-de18080b51c0",
   "metadata": {},
   "outputs": [],
   "source": [
    "df = load()"
   ]
  },
  {
   "cell_type": "code",
   "execution_count": 28,
   "id": "a3f821b0-d172-4a71-93c8-6b7571aa761d",
   "metadata": {},
   "outputs": [
    {
     "name": "stdout",
     "output_type": "stream",
     "text": [
      "(891, 12)\n"
     ]
    }
   ],
   "source": [
    "low, up = outlier_thresholds(df, \"Fare\")\n",
    "\n",
    "print(df.shape) "
   ]
  },
  {
   "cell_type": "code",
   "execution_count": 29,
   "id": "845cf66b-a2e7-4c3c-b14b-24d91397dee8",
   "metadata": {},
   "outputs": [
    {
     "name": "stdout",
     "output_type": "stream",
     "text": [
      "(775, 12)\n"
     ]
    }
   ],
   "source": [
    "print(df[~((df[\"Fare\"] < low) | (df[\"Fare\"] > up))].shape)"
   ]
  },
  {
   "cell_type": "code",
   "execution_count": 30,
   "id": "d7a59560-cbbd-4270-8fd3-07ebd463a82f",
   "metadata": {},
   "outputs": [],
   "source": [
    "def remove_outlier(dataframe, col_name):\n",
    "    low_limit, up_limit = outlier_thresholds(dataframe, col_name)\n",
    "    df_without_outliers = dataframe[~((dataframe[col_name] < low_limit) | (dataframe[col_name] > up_limit))]\n",
    "    return df_without_outliers"
   ]
  },
  {
   "cell_type": "code",
   "execution_count": 31,
   "id": "8fa7ed24-b0e6-4fc0-8451-a9299a059f25",
   "metadata": {},
   "outputs": [
    {
     "name": "stdout",
     "output_type": "stream",
     "text": [
      "Observations: 891\n",
      "Variables: 12\n",
      "cat_cols: 6\n",
      "num_cols: 3\n",
      "cat_but_car: 3\n",
      "num_but_cat: 4\n"
     ]
    }
   ],
   "source": [
    "cat_cols, num_cols, cat_but_car = grab_col_names(df)"
   ]
  },
  {
   "cell_type": "code",
   "execution_count": 32,
   "id": "56d50a8f-ac67-4240-82e9-8e99b0ed6c63",
   "metadata": {},
   "outputs": [],
   "source": [
    "num_cols.remove('PassengerId')\n",
    "\n",
    "for col in num_cols:\n",
    "    df = remove_outlier(df,col)"
   ]
  },
  {
   "cell_type": "code",
   "execution_count": 33,
   "id": "a04eef55-7734-40c0-aa73-69120d5cc922",
   "metadata": {},
   "outputs": [
    {
     "name": "stdout",
     "output_type": "stream",
     "text": [
      "(765, 12)\n"
     ]
    }
   ],
   "source": [
    "print(df.shape)"
   ]
  },
  {
   "cell_type": "code",
   "execution_count": 34,
   "id": "3006062c-788f-4da1-91d0-a1c1e1598c35",
   "metadata": {},
   "outputs": [],
   "source": [
    "def replace_with_thresholds(dataframe, variable):\n",
    "    low_limit, up_limit = outlier_thresholds(dataframe, variable)\n",
    "    dataframe.loc[(dataframe[variable] < low_limit), variable] = low_limit\n",
    "    dataframe.loc[(dataframe[variable] > up_limit), variable] = up_limit"
   ]
  },
  {
   "cell_type": "code",
   "execution_count": 35,
   "id": "e515eb86-9112-48f3-b508-f0277fd48959",
   "metadata": {},
   "outputs": [],
   "source": [
    "df = load()"
   ]
  },
  {
   "cell_type": "code",
   "execution_count": 36,
   "id": "29c925f6-3dff-4b47-a73e-f463a10c6c21",
   "metadata": {},
   "outputs": [
    {
     "name": "stdout",
     "output_type": "stream",
     "text": [
      "Observations: 891\n",
      "Variables: 12\n",
      "cat_cols: 6\n",
      "num_cols: 3\n",
      "cat_but_car: 3\n",
      "num_but_cat: 4\n"
     ]
    }
   ],
   "source": [
    "cat_cols, num_cols, cat_but_car = grab_col_names(df)"
   ]
  },
  {
   "cell_type": "code",
   "execution_count": 37,
   "id": "990612d9-de7b-4d2c-b078-b26dcdd3eb09",
   "metadata": {},
   "outputs": [],
   "source": [
    "num_cols.remove('PassengerId')"
   ]
  },
  {
   "cell_type": "code",
   "execution_count": 39,
   "id": "139745ab-b465-4c42-92da-fbaba6af5e05",
   "metadata": {},
   "outputs": [],
   "source": [
    "for col in num_cols:\n",
    "    replace_with_thresholds(df, col)"
   ]
  },
  {
   "cell_type": "code",
   "execution_count": 40,
   "id": "671289fa-e3ba-45a1-9226-841c7823a4c6",
   "metadata": {},
   "outputs": [
    {
     "name": "stdout",
     "output_type": "stream",
     "text": [
      "Age False\n",
      "Fare False\n"
     ]
    }
   ],
   "source": [
    "for col in num_cols:\n",
    "    print(col, check_outlier(df, col))"
   ]
  },
  {
   "cell_type": "code",
   "execution_count": null,
   "id": "23d5e62c-227a-4bf4-9136-30c9708c48e1",
   "metadata": {},
   "outputs": [],
   "source": []
  }
 ],
 "metadata": {
  "kernelspec": {
   "display_name": "Python 3 (ipykernel)",
   "language": "python",
   "name": "python3"
  },
  "language_info": {
   "codemirror_mode": {
    "name": "ipython",
    "version": 3
   },
   "file_extension": ".py",
   "mimetype": "text/x-python",
   "name": "python",
   "nbconvert_exporter": "python",
   "pygments_lexer": "ipython3",
   "version": "3.11.7"
  }
 },
 "nbformat": 4,
 "nbformat_minor": 5
}
